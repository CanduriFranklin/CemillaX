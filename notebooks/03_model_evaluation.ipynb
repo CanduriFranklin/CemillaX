import pandas as pd
from sklearn.metrics import mean_squared_error, r2_score
import joblib

# Cargar el modelo entrenado
model = joblib.load('../models/uhi_prediction_model.pkl')

# Cargar los datos de prueba
df = pd.read_excel('../data/processed/NY_Mesonet_Weather_Processed.xlsx')
X_test = df.drop('UHI', axis=1)
y_test = df['UHI']

# Hacer predicciones
y_pred = model.predict(X_test)

# Evaluar el modelo
mse = mean_squared_error(y_test, y_pred)
r2 = r2_score(y_test, y_pred)

print(f'MSE: {mse}')
print(f'R²: {r2}')