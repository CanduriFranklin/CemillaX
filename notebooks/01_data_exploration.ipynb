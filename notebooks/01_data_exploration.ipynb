{
 "cells": [
  {
   "cell_type": "code",
   "execution_count": null,
   "metadata": {},
   "outputs": [],
   "source": [
	"import pandas as pd\n",
	"import matplotlib.pyplot as plt\n",
	"\n",
	"# Cargar los datos procesados\n",
	"df = pd.read_excel('../data/processed/NY_Mesonet_Weather_Processed.xlsx')\n",
	"\n",
	"# Visualizar las primeras filas\n",
	"print(df.head())\n",
	"\n",
	"# Graficar la temperatura en el Bronx\n",
	"plt.plot(df['Date / Time'], df['Air Temp at Surface [degC]_bronx'], label='Bronx')\n",
	"plt.plot(df['Date / Time'], df['Air Temp at Surface [degC]_manhattan'], label='Manhattan')\n",
	"plt.legend()\n",
	"plt.show()\n"
   ]
  }
 ],
 "metadata": {},
 "nbformat": 4,
 "nbformat_minor": 2
}