import pandas as pd
import matplotlib.pyplot as plt

# Cargar los datos procesados
df = pd.read_excel('../data/processed/NY_Mesonet_Weather_Processed.xlsx')

# Visualizar las primeras filas
print(df.head())

# Graficar la temperatura en el Bronx
plt.plot(df['Date / Time'], df['Air Temp at Surface [degC]_bronx'], label='Bronx')
plt.plot(df['Date / Time'], df['Air Temp at Surface [degC]_manhattan'], label='Manhattan')
plt.legend()
plt.show()